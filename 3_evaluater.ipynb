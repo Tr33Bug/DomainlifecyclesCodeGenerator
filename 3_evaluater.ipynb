{
 "cells": [
  {
   "cell_type": "markdown",
   "metadata": {},
   "source": [
    "# Evaluate the Results"
   ]
  },
  {
   "cell_type": "code",
   "execution_count": 1,
   "metadata": {},
   "outputs": [],
   "source": [
    "import transformers\n",
    "import torch\n",
    "import pandas as pd\n",
    "import datasets\n",
    "\n",
    "from torch.utils.tensorboard import SummaryWriter"
   ]
  },
  {
   "cell_type": "code",
   "execution_count": 2,
   "metadata": {},
   "outputs": [],
   "source": [
    "# define run name\n",
    "run_name = \"NCG_RUN_1\"\n",
    "\n",
    "# define model for tokenizer\n",
    "model_name = \"codellama/CodeLlama-7b-hf\"\n",
    "\n",
    "# dataset import folder\n",
    "export_folder = \"./dataset/\" + run_name + \"/\"\n",
    "\n",
    "# model save path\n",
    "model_save_path = \"./models/\" + run_name + \"/\"\n",
    "\n",
    "# model checkpoint path\n",
    "model_checkpoint_path = \"./checkpoints/\" + run_name + \"/\""
   ]
  },
  {
   "cell_type": "code",
   "execution_count": 3,
   "metadata": {},
   "outputs": [
    {
     "data": {
      "application/vnd.jupyter.widget-view+json": {
       "model_id": "ff70462453644406aa0b3e3d1e774c50",
       "version_major": 2,
       "version_minor": 0
      },
      "text/plain": [
       "Loading checkpoint shards:   0%|          | 0/2 [00:00<?, ?it/s]"
      ]
     },
     "metadata": {},
     "output_type": "display_data"
    }
   ],
   "source": [
    "## Test loading model and inference with that model\n",
    "\n",
    "# load quantization config for 4bit quantization -> must be same as training\n",
    "quantization_config = transformers.BitsAndBytesConfig(load_in_4bit=True, bnb_4bit_use_double_quant=True, bnb_4bit_quant_type=\"nf4\", bnb_4bit_compute_dtype=torch.bfloat16)\n",
    "\n",
    "# load model from model_save_path with quantization config\n",
    "model = transformers.AutoModelForCausalLM.from_pretrained(model_save_path, quantization_config=quantization_config, low_cpu_mem_usage=True)\n",
    "\n",
    "# optional: load model from checkpoint\n",
    "# model = transformers.AutoModelForCausalLM.from_pretrained(\"./output/bigRun/checkpoint-1000\", quantization_config=quantization_config, low_cpu_mem_usage=True)"
   ]
  },
  {
   "cell_type": "code",
   "execution_count": 4,
   "metadata": {},
   "outputs": [
    {
     "data": {
      "text/plain": [
       "1"
      ]
     },
     "execution_count": 4,
     "metadata": {},
     "output_type": "execute_result"
    }
   ],
   "source": [
    "# load tokenizer\n",
    "tokenizer = transformers.AutoTokenizer.from_pretrained(model_name)\n",
    "\n",
    "# add pad token\n",
    "tokenizer.add_special_tokens({'pad_token': '[PAD]'})"
   ]
  },
  {
   "cell_type": "code",
   "execution_count": 8,
   "metadata": {},
   "outputs": [
    {
     "name": "stderr",
     "output_type": "stream",
     "text": [
      "The attention mask and the pad token id were not set. As a consequence, you may observe unexpected behavior. Please pass your input's `attention_mask` to obtain reliable results.\n",
      "Setting `pad_token_id` to `eos_token_id`:2 for open-end generation.\n"
     ]
    },
    {
     "name": "stdout",
     "output_type": "stream",
     "text": [
      "§ {name\": \"VAR_name\", \"type\": {\"@class\": \"nitrox.dlc.mirror.model.AssertedContainableTypeModel\", \"typeName\": \"VAR_typeName\", \"domainType\": \"NON_DOMAIN\", \"assertions\": [], \"hasOptionalContainer\": false, \"hasCollectionContainer\": false, \"hasListContainer\": false, \"hasSetContainer\": false, \"hasStreamContainer\": false, \"containerTypeName\": \"VAR_containerTypeName\", \"containerAssertions\": []}}, \"accessLevel\": \"PACKAGE\", \"declaredByTypeName\": \"VAR_declaredByTypeName\", \"modifiable\": true, \"publicReadable\": true, \"publicWriteable\": false, \"static\": false}, \"concurrencyVersionField\": {\"@class\": \"nitrox.dlc.mirror.model.FieldModel\", \"name\": \"VAR_name\", \"type\": {\"@class\": \"nitrox.dlc.mirror.model.AssertedContainableTypeModel\", \"typeName\": \"VAR_typeName\", \"domainType\": \"NON_DOMAIN\", \"assertions\": [], \"hasOptionalContainer\": false, \"hasCollectionContainer\": false, \"hasListContainer\": false, \"hasSetContainer\": false, \"hasStreamContainer\": false, \"containerTypeName\": \"VAR\n"
     ]
    }
   ],
   "source": [
    "### test inference\n",
    "# prompt = \"{ \\\"@class\\\" : \\\"nitrox.dlc.mirror.model.EnumModel\\\", \\\"typeName\\\" :\"\n",
    "# prompt = \"{ \\\"@class\\\" : \\\"nitrox.dlc.mirror.model.AggregateRootModel\\\",\\\"\"\n",
    "prompt = \"§ {\"\n",
    "# prompt = \"{\"\n",
    "\n",
    "inputs = tokenizer(prompt, return_tensors=\"pt\")\n",
    "\n",
    "outputs = model.generate(inputs.input_ids, max_length=300, do_sample=True, temperature=0.1)\n",
    "\n",
    "print(tokenizer.decode(outputs[0], skip_special_tokens=True))"
   ]
  },
  {
   "cell_type": "code",
   "execution_count": 6,
   "metadata": {},
   "outputs": [
    {
     "name": "stderr",
     "output_type": "stream",
     "text": [
      "The attention mask and the pad token id were not set. As a consequence, you may observe unexpected behavior. Please pass your input's `attention_mask` to obtain reliable results.\n",
      "Setting `pad_token_id` to `eos_token_id`:2 for open-end generation.\n",
      "The attention mask and the pad token id were not set. As a consequence, you may observe unexpected behavior. Please pass your input's `attention_mask` to obtain reliable results.\n",
      "Setting `pad_token_id` to `eos_token_id`:2 for open-end generation.\n",
      "The attention mask and the pad token id were not set. As a consequence, you may observe unexpected behavior. Please pass your input's `attention_mask` to obtain reliable results.\n",
      "Setting `pad_token_id` to `eos_token_id`:2 for open-end generation.\n",
      "The attention mask and the pad token id were not set. As a consequence, you may observe unexpected behavior. Please pass your input's `attention_mask` to obtain reliable results.\n",
      "Setting `pad_token_id` to `eos_token_id`:2 for open-end generation.\n",
      "The attention mask and the pad token id were not set. As a consequence, you may observe unexpected behavior. Please pass your input's `attention_mask` to obtain reliable results.\n",
      "Setting `pad_token_id` to `eos_token_id`:2 for open-end generation.\n"
     ]
    }
   ],
   "source": [
    "prompt = \"§ {\\\"\"\n",
    "\n",
    "inputs = tokenizer(prompt, return_tensors=\"pt\")\n",
    "temp = [0.1, 0.3, 0.5, 0.7, 0.9]\n",
    "outputs_temp = []\n",
    "for i in range(len(temp)):\n",
    "    outputs_temp.append(model.generate(inputs.input_ids, max_length=150, do_sample=True, temperature=temp[i]))\n",
    "\n"
   ]
  },
  {
   "cell_type": "code",
   "execution_count": 7,
   "metadata": {},
   "outputs": [
    {
     "name": "stdout",
     "output_type": "stream",
     "text": [
      "Temperature:  0.1\n",
      "§ {\"@assertions\": [], \"publishedEventTypeNames\": \"VAR_publishedEventTypeNames\", \"listenedEventTypeName\": null, \"getter\": false, \"setter\": false}, \"setter\": false}, \"collectionContainerTypeName\": null, \"listContainerTypeName\": \"VAR_listContainerTypeName\", \"setContainerTypeName\": \"VAR_setContainerTypeName\", \"enumContainerTypeName\": \"VAR_enumContainerTypeName\", \"inheritanceContainerTypeNames\": \"VAR_inheritanceContainerTypeNames\", \"allInterfaceTypeNames\": \"VAR_allInterfaceTypeNames\"} §AccessLevel\": \"PUBLIC\", \"typeName\": \"VAR_type\n",
      "Temperature:  0.3\n",
      "§ {\"@assertions\": [], \"publishedEventTypeNames\": \"VAR_publishedEventTypeNames\", \"listenedEventTypeName\": null, \"getter\": false, \"setter\": false}, \"setter\": false}, \"collectionContainerTypeName\": null, \"listContainerTypeName\": \"VAR_listContainerTypeName\", \"setContainerTypeName\": \"VAR_setContainerTypeName\", \"containerAssertions\": []}, \"accessLevel\": \"PRIVATE\", \"declaredByTypeName\": \"VAR_declaredByTypeName\", \"modifiable\": true, \"publicReadable\": true, \"publicWriteable\": false, \"static\": false}, \"concurrencyVersion\n",
      "Temperature:  0.5\n",
      "§ {\"@assertions\": [], \"@hasOptionalContainer\": false, \"@hasContainer\": false, \"@hasCollectionContainer\": false, \"@hasCollectionContainer\": false}, \"containerTypeName\": \"VAR_containerTypeName\", \"containerAssertions\": []}, \"publishedEventTypeNames\": \"VAR_publishedEventTypeTypeNames\", \"listenedEventTypeTypeNames\": \"VAR_listenedEventTypeTypeNames\", \"getter\": false, \"setter\": false}, {\"@class\": \"nitrox.dlc.mirror.model.MethodModel\", \"name\": \"VAR_name\", \"declaredByTypeName\": \"VAR_declaredByTypeName\", \"accessLevel\n",
      "Temperature:  0.7\n",
      "§ {\"@assertions\": [], \"publishedEventTypeNames\": \"VAR_publishedEventTypeNames\", \"listenedEventTypeName\": \"VAR_listenedEventTypeName\", \"getter\": false, \"setter\": false}, \"managedAggregateTypeName\": \"VAR_managedAggregateTypeTypeName\", \"repositoryInterfaceTypeNames\": \"VAR_repositoryInterfaceTypeNames\", \"inheritanceHierarchyTypeNames\": \"VAR_inheritanceHierarchyTypeNames\", \"allInterfaceTypeNames\": \"VAR_allInterfaceTypeNames\"} §accessLevel\": \"PUBLIC\", \"parameters\": [], \"returnType\": {\"@class\": \"nitrox.dlc.\n",
      "Temperature:  0.9\n",
      "§ {\"@declareableContainerTypeName\": \"VAR_declareableContainerTypeName\", \"containerAssertions\": []}, \"accessLevel\": \"PUBLIC\", \"parameters\": [{\"@class\": \"nitrox.dlc.mirror.model.ParamModel\", \"name\": \"VAR_name\", \"type\": {\"@class\": \"nitrox.dlc.mirror.model.AssertedContainableTypeModel\", \"typeName\": \"VAR_typeName\", \"domainType\": \"NON_DOMAIN\", \"assertions\": [], \"hasOptionalContainer\": false, \"hasCollectionContainer\": false, \"hasListContainer\": false, \"hasSetContainer\": false\n"
     ]
    }
   ],
   "source": [
    "for i in range(len(temp)):\n",
    "    print(\"Temperature: \", temp[i])\n",
    "    print(tokenizer.decode(outputs_temp[i][0], skip_special_tokens=True))"
   ]
  },
  {
   "cell_type": "code",
   "execution_count": null,
   "metadata": {},
   "outputs": [],
   "source": []
  }
 ],
 "metadata": {
  "kernelspec": {
   "display_name": "Python 3",
   "language": "python",
   "name": "python3"
  },
  "language_info": {
   "codemirror_mode": {
    "name": "ipython",
    "version": 3
   },
   "file_extension": ".py",
   "mimetype": "text/x-python",
   "name": "python",
   "nbconvert_exporter": "python",
   "pygments_lexer": "ipython3",
   "version": "3.11.8"
  }
 },
 "nbformat": 4,
 "nbformat_minor": 2
}
