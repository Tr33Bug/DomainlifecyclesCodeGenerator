{
 "cells": [
  {
   "cell_type": "markdown",
   "metadata": {},
   "source": [
    "# Dataset Generator"
   ]
  },
  {
   "cell_type": "markdown",
   "metadata": {},
   "source": [
    "The Dataset Generator Notebook contains the data pre-processing. A cleansed and abstracted dataset is created from the domain lifecycle JSON files from the `all_json` folder. \n",
    "\n",
    "This process can be illustrated and explained schematically in the following process flow diagram."
   ]
  },
  {
   "cell_type": "markdown",
   "metadata": {},
   "source": [
    "<div>\n",
    "<img src=\"./images/ColoredDataPreprocessingProcess.jpg\" width=\"500\"/>\n",
    "</div>"
   ]
  },
  {
   "cell_type": "markdown",
   "metadata": {},
   "source": [
    "## Notebook-Setup"
   ]
  },
  {
   "cell_type": "markdown",
   "metadata": {},
   "source": [
    "If not already installed, install the following packages and restart the kernel. \n",
    "\n",
    "Using a new python environment with python 3.10 is recommended. "
   ]
  },
  {
   "cell_type": "code",
   "execution_count": 5,
   "metadata": {},
   "outputs": [],
   "source": [
    "# importing the libraries\n",
    "import pandas as pd\n",
    "import os\n",
    "import json\n",
    "import datasets\n",
    "import transformers\n"
   ]
  },
  {
   "cell_type": "code",
   "execution_count": 6,
   "metadata": {},
   "outputs": [],
   "source": [
    "## define run name\n",
    "# this name defines the dataset and model name and is used throughout all notebooks. Make sure to change it for each new run to a desired name\n",
    "run_name = \"NCG_RUN_1\"\n",
    "\n",
    "## define testing options\n",
    "# set True for testing pipeline with smaller dataset\n",
    "# If set to True, only a small subset of the dataset is used for testing purposes\n",
    "nb_testing = True\n",
    "\n",
    "# set numbers of rows from ~11k to take for testing\n",
    "testing_size = 100\n",
    "\n",
    "## set paths\n",
    "# path to the json files folder\n",
    "path = \"./all_json/\"\n",
    "# define model for tokenizer\n",
    "model_name = \"codellama/CodeLlama-7b-hf\"\n",
    "# dataset export folder\n",
    "export_folder = \"./dataset/\" + run_name + \"/\"\n",
    "\n",
    "## set chunk size\n",
    "# set max length for dataset\n",
    "max_length = 2048\n",
    "# max_length = 16000 # 16k tokens from paper -> https://arxiv.org/pdf/2308.12950.pdf\n",
    "\n",
    "\n",
    "## set export options\n",
    "save_dataset = True\n",
    "save_test_train = True\n",
    "save_df = True\n",
    "\n",
    "## set random seed for dataset shuffling (See \"3. Chunk Shuffling\" in process flow diagram)\n",
    "rand_seed = 42\n"
   ]
  },
  {
   "cell_type": "markdown",
   "metadata": {},
   "source": [
    "## Data Pre-Processing Flow"
   ]
  },
  {
   "cell_type": "markdown",
   "metadata": {},
   "source": [
    "### 0. Data Import"
   ]
  },
  {
   "cell_type": "code",
   "execution_count": 7,
   "metadata": {},
   "outputs": [
    {
     "data": {
      "text/plain": [
       "'{\\n  \"@class\" : \"nitrox.dlc.mirror.model.ValueObjectModel\",\\n  \"typeName\" : \"tests.shared.persistence.domain.valueobjectsPrimitive.ComplexVoPrimitive\",\\n  \"abstract\" : false,\\n  \"allFields\" : [ {\\n    \"@class\" : \"nitrox.dlc.mirror.model.FieldModel\",\\n    \"name\" : \"num\",\\n    \"type\" : {\\n      \"@class\" : \"nitrox.dlc.mirror.model.AssertedContainableTypeModel\",\\n      \"typeName\" : \"java.lang.Long\",\\n      \"domainType\" : \"NON_DOMAIN\",\\n      \"assertions\" : [ ],\\n      \"hasOptionalContainer\" : false,\\n      \"hasCollectionContainer\" : false,\\n      \"hasListContainer\" : false,\\n      \"hasSetContainer\" : false,\\n      \"hasStreamContainer\" : false,\\n      \"containerTypeName\" : null,\\n      \"containerAssertions\" : [ ]\\n    },\\n    \"accessLevel\" : \"PRIVATE\",\\n    \"declaredByTypeName\" : \"tests.shared.persistence.domain.valueobjectsPrimitive.ComplexVoPrimitive\",\\n    \"modifiable\" : false,\\n    \"publicReadable\" : true,\\n    \"publicWriteable\" : false,\\n    \"static\" : false\\n  }, {\\n    \"@class\" : \"nitrox.dlc.mirror.model.FieldModel\",\\n    \"name\" : \"val\",\\n    \"type\" : {\\n      \"@class\" : \"nitrox.dlc.mirror.model.AssertedContainableTypeModel\",\\n      \"typeName\" : \"long\",\\n      \"domainType\" : \"NON_DOMAIN\",\\n      \"assertions\" : [ ],\\n      \"hasOptionalContainer\" : false,\\n      \"hasCollectionContainer\" : false,\\n      \"hasListContainer\" : false,\\n      \"hasSetContainer\" : false,\\n      \"hasStreamContainer\" : false,\\n      \"containerTypeName\" : null,\\n      \"containerAssertions\" : [ ]\\n    },\\n    \"accessLevel\" : \"PRIVATE\",\\n    \"declaredByTypeName\" : \"tests.shared.persistence.domain.valueobjectsPrimitive.ComplexVoPrimitive\",\\n    \"modifiable\" : false,\\n    \"publicReadable\" : true,\\n    \"publicWriteable\" : false,\\n    \"static\" : false\\n  } ],\\n  \"methods\" : [ {\\n    \"@class\" : \"nitrox.dlc.mirror.model.MethodModel\",\\n    \"name\" : \"equals\",\\n    \"declaredByTypeName\" : \"tests.shared.persistence.domain.valueobjectsPrimitive.ComplexVoPrimitive\",\\n    \"accessLevel\" : \"PUBLIC\",\\n    \"parameters\" : [ {\\n      \"@class\" : \"nitrox.dlc.mirror.model.ParamModel\",\\n      \"name\" : \"arg0\",\\n      \"type\" : {\\n        \"@class\" : \"nitrox.dlc.mirror.model.AssertedContainableTypeModel\",\\n        \"typeName\" : \"java.lang.Object\",\\n        \"domainType\" : \"NON_DOMAIN\",\\n        \"assertions\" : [ ],\\n        \"hasOptionalContainer\" : false,\\n        \"hasCollectionContainer\" : false,\\n        \"hasListContainer\" : false,\\n        \"hasSetContainer\" : false,\\n        \"hasStreamContainer\" : false,\\n        \"containerTypeName\" : null,\\n        \"containerAssertions\" : [ ]\\n      }\\n    } ],\\n    \"returnType\" : {\\n      \"@class\" : \"nitrox.dlc.mirror.model.AssertedContainableTypeModel\",\\n      \"typeName\" : \"boolean\",\\n      \"domainType\" : \"NON_DOMAIN\",\\n      \"assertions\" : [ ],\\n      \"hasOptionalContainer\" : false,\\n      \"hasCollectionContainer\" : false,\\n      \"hasListContainer\" : false,\\n      \"hasSetContainer\" : false,\\n      \"hasStreamContainer\" : false,\\n      \"containerTypeName\" : null,\\n      \"containerAssertions\" : [ ]\\n    },\\n    \"publishedEventTypeNames\" : [ ],\\n    \"listenedEventTypeName\" : null,\\n    \"getter\" : false,\\n    \"setter\" : false\\n  }, {\\n    \"@class\" : \"nitrox.dlc.mirror.model.MethodModel\",\\n    \"name\" : \"toString\",\\n    \"declaredByTypeName\" : \"tests.shared.persistence.domain.valueobjectsPrimitive.ComplexVoPrimitive\",\\n    \"accessLevel\" : \"PUBLIC\",\\n    \"parameters\" : [ ],\\n    \"returnType\" : {\\n      \"@class\" : \"nitrox.dlc.mirror.model.AssertedContainableTypeModel\",\\n      \"typeName\" : \"java.lang.String\",\\n      \"domainType\" : \"NON_DOMAIN\",\\n      \"assertions\" : [ ],\\n      \"hasOptionalContainer\" : false,\\n      \"hasCollectionContainer\" : false,\\n      \"hasListContainer\" : false,\\n      \"hasSetContainer\" : false,\\n      \"hasStreamContainer\" : false,\\n      \"containerTypeName\" : null,\\n      \"containerAssertions\" : [ ]\\n    },\\n    \"publishedEventTypeNames\" : [ ],\\n    \"listenedEventTypeName\" : null,\\n    \"getter\" : false,\\n    \"setter\" : false\\n  }, {\\n    \"@class\" : \"nitrox.dlc.mirror.model.MethodModel\",\\n    \"name\" : \"hashCode\",\\n    \"declaredByTypeName\" : \"tests.shared.persistence.domain.valueobjectsPrimitive.ComplexVoPrimitive\",\\n    \"accessLevel\" : \"PUBLIC\",\\n    \"parameters\" : [ ],\\n    \"returnType\" : {\\n      \"@class\" : \"nitrox.dlc.mirror.model.AssertedContainableTypeModel\",\\n      \"typeName\" : \"int\",\\n      \"domainType\" : \"NON_DOMAIN\",\\n      \"assertions\" : [ ],\\n      \"hasOptionalContainer\" : false,\\n      \"hasCollectionContainer\" : false,\\n      \"hasListContainer\" : false,\\n      \"hasSetContainer\" : false,\\n      \"hasStreamContainer\" : false,\\n      \"containerTypeName\" : null,\\n      \"containerAssertions\" : [ ]\\n    },\\n    \"publishedEventTypeNames\" : [ ],\\n    \"listenedEventTypeName\" : null,\\n    \"getter\" : false,\\n    \"setter\" : false\\n  }, {\\n    \"@class\" : \"nitrox.dlc.mirror.model.MethodModel\",\\n    \"name\" : \"val\",\\n    \"declaredByTypeName\" : \"tests.shared.persistence.domain.valueobjectsPrimitive.ComplexVoPrimitive\",\\n    \"accessLevel\" : \"PUBLIC\",\\n    \"parameters\" : [ ],\\n    \"returnType\" : {\\n      \"@class\" : \"nitrox.dlc.mirror.model.AssertedContainableTypeModel\",\\n      \"typeName\" : \"long\",\\n      \"domainType\" : \"NON_DOMAIN\",\\n      \"assertions\" : [ ],\\n      \"hasOptionalContainer\" : false,\\n      \"hasCollectionContainer\" : false,\\n      \"hasListContainer\" : false,\\n      \"hasSetContainer\" : false,\\n      \"hasStreamContainer\" : false,\\n      \"containerTypeName\" : null,\\n      \"containerAssertions\" : [ ]\\n    },\\n    \"publishedEventTypeNames\" : [ ],\\n    \"listenedEventTypeName\" : null,\\n    \"getter\" : true,\\n    \"setter\" : false\\n  }, {\\n    \"@class\" : \"nitrox.dlc.mirror.model.MethodModel\",\\n    \"name\" : \"builder\",\\n    \"declaredByTypeName\" : \"tests.shared.persistence.domain.valueobjectsPrimitive.ComplexVoPrimitive\",\\n    \"accessLevel\" : \"PUBLIC\",\\n    \"parameters\" : [ ],\\n    \"returnType\" : {\\n      \"@class\" : \"nitrox.dlc.mirror.model.AssertedContainableTypeModel\",\\n      \"typeName\" : \"tests.shared.persistence.domain.valueobjectsPrimitive.ComplexVoPrimitive$ComplexVoPrimitiveBuilder\",\\n      \"domainType\" : \"NON_DOMAIN\",\\n      \"assertions\" : [ ],\\n      \"hasOptionalContainer\" : false,\\n      \"hasCollectionContainer\" : false,\\n      \"hasListContainer\" : false,\\n      \"hasSetContainer\" : false,\\n      \"hasStreamContainer\" : false,\\n      \"containerTypeName\" : null,\\n      \"containerAssertions\" : [ ]\\n    },\\n    \"publishedEventTypeNames\" : [ ],\\n    \"listenedEventTypeName\" : null,\\n    \"getter\" : false,\\n    \"setter\" : false\\n  }, {\\n    \"@class\" : \"nitrox.dlc.mirror.model.MethodModel\",\\n    \"name\" : \"num\",\\n    \"declaredByTypeName\" : \"tests.shared.persistence.domain.valueobjectsPrimitive.ComplexVoPrimitive\",\\n    \"accessLevel\" : \"PUBLIC\",\\n    \"parameters\" : [ ],\\n    \"returnType\" : {\\n      \"@class\" : \"nitrox.dlc.mirror.model.AssertedContainableTypeModel\",\\n      \"typeName\" : \"java.lang.Long\",\\n      \"domainType\" : \"NON_DOMAIN\",\\n      \"assertions\" : [ ],\\n      \"hasOptionalContainer\" : false,\\n      \"hasCollectionContainer\" : false,\\n      \"hasListContainer\" : false,\\n      \"hasSetContainer\" : false,\\n      \"hasStreamContainer\" : false,\\n      \"containerTypeName\" : null,\\n      \"containerAssertions\" : [ ]\\n    },\\n    \"publishedEventTypeNames\" : [ ],\\n    \"listenedEventTypeName\" : null,\\n    \"getter\" : true,\\n    \"setter\" : false\\n  }, {\\n    \"@class\" : \"nitrox.dlc.mirror.model.MethodModel\",\\n    \"name\" : \"wait\",\\n    \"declaredByTypeName\" : \"java.lang.Object\",\\n    \"accessLevel\" : \"PUBLIC\",\\n    \"parameters\" : [ {\\n      \"@class\" : \"nitrox.dlc.mirror.model.ParamModel\",\\n      \"name\" : \"arg0\",\\n      \"type\" : {\\n        \"@class\" : \"nitrox.dlc.mirror.model.AssertedContainableTypeModel\",\\n        \"typeName\" : \"long\",\\n        \"domainType\" : \"NON_DOMAIN\",\\n        \"assertions\" : [ ],\\n        \"hasOptionalContainer\" : false,\\n        \"hasCollectionContainer\" : false,\\n        \"hasListContainer\" : false,\\n        \"hasSetContainer\" : false,\\n        \"hasStreamContainer\" : false,\\n        \"containerTypeName\" : null,\\n        \"containerAssertions\" : [ ]\\n      }\\n    }, {\\n      \"@class\" : \"nitrox.dlc.mirror.model.ParamModel\",\\n      \"name\" : \"arg1\",\\n      \"type\" : {\\n        \"@class\" : \"nitrox.dlc.mirror.model.AssertedContainableTypeModel\",\\n        \"typeName\" : \"int\",\\n        \"domainType\" : \"NON_DOMAIN\",\\n        \"assertions\" : [ ],\\n        \"hasOptionalContainer\" : false,\\n        \"hasCollectionContainer\" : false,\\n        \"hasListContainer\" : false,\\n        \"hasSetContainer\" : false,\\n        \"hasStreamContainer\" : false,\\n        \"containerTypeName\" : null,\\n        \"containerAssertions\" : [ ]\\n      }\\n    } ],\\n    \"returnType\" : {\\n      \"@class\" : \"nitrox.dlc.mirror.model.AssertedContainableTypeModel\",\\n      \"typeName\" : \"void\",\\n      \"domainType\" : \"NON_DOMAIN\",\\n      \"assertions\" : [ ],\\n      \"hasOptionalContainer\" : false,\\n      \"hasCollectionContainer\" : false,\\n      \"hasListContainer\" : false,\\n      \"hasSetContainer\" : false,\\n      \"hasStreamContainer\" : false,\\n      \"containerTypeName\" : null,\\n      \"containerAssertions\" : [ ]\\n    },\\n    \"publishedEventTypeNames\" : [ ],\\n    \"listenedEventTypeName\" : null,\\n    \"getter\" : false,\\n    \"setter\" : false\\n  }, {\\n    \"@class\" : \"nitrox.dlc.mirror.model.MethodModel\",\\n    \"name\" : \"wait\",\\n    \"declaredByTypeName\" : \"java.lang.Object\",\\n    \"accessLevel\" : \"PUBLIC\",\\n    \"parameters\" : [ ],\\n    \"returnType\" : {\\n      \"@class\" : \"nitrox.dlc.mirror.model.AssertedContainableTypeModel\",\\n      \"typeName\" : \"void\",\\n      \"domainType\" : \"NON_DOMAIN\",\\n      \"assertions\" : [ ],\\n      \"hasOptionalContainer\" : false,\\n      \"hasCollectionContainer\" : false,\\n      \"hasListContainer\" : false,\\n      \"hasSetContainer\" : false,\\n      \"hasStreamContainer\" : false,\\n      \"containerTypeName\" : null,\\n      \"containerAssertions\" : [ ]\\n    },\\n    \"publishedEventTypeNames\" : [ ],\\n    \"listenedEventTypeName\" : null,\\n    \"getter\" : false,\\n    \"setter\" : false\\n  }, {\\n    \"@class\" : \"nitrox.dlc.mirror.model.MethodModel\",\\n    \"name\" : \"wait\",\\n    \"declaredByTypeName\" : \"java.lang.Object\",\\n    \"accessLevel\" : \"PUBLIC\",\\n    \"parameters\" : [ {\\n      \"@class\" : \"nitrox.dlc.mirror.model.ParamModel\",\\n      \"name\" : \"arg0\",\\n      \"type\" : {\\n        \"@class\" : \"nitrox.dlc.mirror.model.AssertedContainableTypeModel\",\\n        \"typeName\" : \"long\",\\n        \"domainType\" : \"NON_DOMAIN\",\\n        \"assertions\" : [ ],\\n        \"hasOptionalContainer\" : false,\\n        \"hasCollectionContainer\" : false,\\n        \"hasListContainer\" : false,\\n        \"hasSetContainer\" : false,\\n        \"hasStreamContainer\" : false,\\n        \"containerTypeName\" : null,\\n        \"containerAssertions\" : [ ]\\n      }\\n    } ],\\n    \"returnType\" : {\\n      \"@class\" : \"nitrox.dlc.mirror.model.AssertedContainableTypeModel\",\\n      \"typeName\" : \"void\",\\n      \"domainType\" : \"NON_DOMAIN\",\\n      \"assertions\" : [ ],\\n      \"hasOptionalContainer\" : false,\\n      \"hasCollectionContainer\" : false,\\n      \"hasListContainer\" : false,\\n      \"hasSetContainer\" : false,\\n      \"hasStreamContainer\" : false,\\n      \"containerTypeName\" : null,\\n      \"containerAssertions\" : [ ]\\n    },\\n    \"publishedEventTypeNames\" : [ ],\\n    \"listenedEventTypeName\" : null,\\n    \"getter\" : false,\\n    \"setter\" : false\\n  }, {\\n    \"@class\" : \"nitrox.dlc.mirror.model.MethodModel\",\\n    \"name\" : \"getClass\",\\n    \"declaredByTypeName\" : \"java.lang.Object\",\\n    \"accessLevel\" : \"PUBLIC\",\\n    \"parameters\" : [ ],\\n    \"returnType\" : {\\n      \"@class\" : \"nitrox.dlc.mirror.model.AssertedContainableTypeModel\",\\n      \"typeName\" : \"java.lang.Class\",\\n      \"domainType\" : \"NON_DOMAIN\",\\n      \"assertions\" : [ ],\\n      \"hasOptionalContainer\" : false,\\n      \"hasCollectionContainer\" : false,\\n      \"hasListContainer\" : false,\\n      \"hasSetContainer\" : false,\\n      \"hasStreamContainer\" : false,\\n      \"containerTypeName\" : null,\\n      \"containerAssertions\" : [ ]\\n    },\\n    \"publishedEventTypeNames\" : [ ],\\n    \"listenedEventTypeName\" : null,\\n    \"getter\" : false,\\n    \"setter\" : false\\n  }, {\\n    \"@class\" : \"nitrox.dlc.mirror.model.MethodModel\",\\n    \"name\" : \"notify\",\\n    \"declaredByTypeName\" : \"java.lang.Object\",\\n    \"accessLevel\" : \"PUBLIC\",\\n    \"parameters\" : [ ],\\n    \"returnType\" : {\\n      \"@class\" : \"nitrox.dlc.mirror.model.AssertedContainableTypeModel\",\\n      \"typeName\" : \"void\",\\n      \"domainType\" : \"NON_DOMAIN\",\\n      \"assertions\" : [ ],\\n      \"hasOptionalContainer\" : false,\\n      \"hasCollectionContainer\" : false,\\n      \"hasListContainer\" : false,\\n      \"hasSetContainer\" : false,\\n      \"hasStreamContainer\" : false,\\n      \"containerTypeName\" : null,\\n      \"containerAssertions\" : [ ]\\n    },\\n    \"publishedEventTypeNames\" : [ ],\\n    \"listenedEventTypeName\" : null,\\n    \"getter\" : false,\\n    \"setter\" : false\\n  }, {\\n    \"@class\" : \"nitrox.dlc.mirror.model.MethodModel\",\\n    \"name\" : \"notifyAll\",\\n    \"declaredByTypeName\" : \"java.lang.Object\",\\n    \"accessLevel\" : \"PUBLIC\",\\n    \"parameters\" : [ ],\\n    \"returnType\" : {\\n      \"@class\" : \"nitrox.dlc.mirror.model.AssertedContainableTypeModel\",\\n      \"typeName\" : \"void\",\\n      \"domainType\" : \"NON_DOMAIN\",\\n      \"assertions\" : [ ],\\n      \"hasOptionalContainer\" : false,\\n      \"hasCollectionContainer\" : false,\\n      \"hasListContainer\" : false,\\n      \"hasSetContainer\" : false,\\n      \"hasStreamContainer\" : false,\\n      \"containerTypeName\" : null,\\n      \"containerAssertions\" : [ ]\\n    },\\n    \"publishedEventTypeNames\" : [ ],\\n    \"listenedEventTypeName\" : null,\\n    \"getter\" : false,\\n    \"setter\" : false\\n  }, {\\n    \"@class\" : \"nitrox.dlc.mirror.model.MethodModel\",\\n    \"name\" : \"validate\",\\n    \"declaredByTypeName\" : \"nitrox.dlc.domain.types.Validatable\",\\n    \"accessLevel\" : \"PUBLIC\",\\n    \"parameters\" : [ ],\\n    \"returnType\" : {\\n      \"@class\" : \"nitrox.dlc.mirror.model.AssertedContainableTypeModel\",\\n      \"typeName\" : \"void\",\\n      \"domainType\" : \"NON_DOMAIN\",\\n      \"assertions\" : [ ],\\n      \"hasOptionalContainer\" : false,\\n      \"hasCollectionContainer\" : false,\\n      \"hasListContainer\" : false,\\n      \"hasSetContainer\" : false,\\n      \"hasStreamContainer\" : false,\\n      \"containerTypeName\" : null,\\n      \"containerAssertions\" : [ ]\\n    },\\n    \"publishedEventTypeNames\" : [ ],\\n    \"listenedEventTypeName\" : null,\\n    \"getter\" : false,\\n    \"setter\" : false\\n  } ],\\n  \"inheritanceHierarchyTypeNames\" : [ \"java.lang.Record\", \"java.lang.Object\" ],\\n  \"allInterfaceTypeNames\" : [ \"nitrox.dlc.domain.types.ValueObject\" ],\\n  \"enum\" : false,\\n  \"identity\" : false,\\n  \"valueObject\" : true\\n}'"
      ]
     },
     "execution_count": 7,
     "metadata": {},
     "output_type": "execute_result"
    }
   ],
   "source": [
    "# import all json data from foler path as text\n",
    " \n",
    "\n",
    "data = []\n",
    "for file in os.listdir(path):\n",
    "    with open(path+file, 'r') as f:\n",
    "        data.append(f.read())\n",
    "\n",
    "data[0]"
   ]
  },
  {
   "cell_type": "markdown",
   "metadata": {},
   "source": [
    "### 1. Data Cleaning"
   ]
  },
  {
   "cell_type": "code",
   "execution_count": 5,
   "metadata": {},
   "outputs": [],
   "source": [
    "# add \" \" in front of every \\n \n",
    "data = [i.replace(\"\\n\", \" \\n\") for i in data]\n"
   ]
  },
  {
   "cell_type": "code",
   "execution_count": 7,
   "metadata": {},
   "outputs": [],
   "source": [
    "def replace_key(json_data, key_value, replace_value):\n",
    "    \"\"\"Function to replace a key in a nested dictionary or list of dictionaries with a new value.\n",
    "    \"\"\"\n",
    "    if isinstance(json_data, dict):\n",
    "        for key, value in json_data.items():\n",
    "            if key == key_value:\n",
    "                json_data[key] = replace_value\n",
    "            elif isinstance(value, (dict, list)):\n",
    "                replace_key(value, key_value, replace_value)\n",
    "    elif isinstance(json_data, list):\n",
    "        for item in json_data:\n",
    "            replace_key(item, key_value, replace_value)"
   ]
  },
  {
   "cell_type": "code",
   "execution_count": 8,
   "metadata": {},
   "outputs": [],
   "source": [
    "def replace_key_if_not_null(json_data, key_value, replace_value):\n",
    "    \"\"\"Function to replace a key in a nested dictionary or list of dictionaries with a new value if the value is not None.\n",
    "    \"\"\"\n",
    "    if isinstance(json_data, dict):\n",
    "        for key, value in json_data.items():\n",
    "            if key == key_value and value is not None:\n",
    "                json_data[key] = replace_value\n",
    "            elif isinstance(value, (dict, list)):\n",
    "                replace_key_if_not_null(value, key_value, replace_value)\n",
    "    elif isinstance(json_data, list):\n",
    "        for item in json_data:\n",
    "            replace_key_if_not_null(item, key_value, replace_value)"
   ]
  },
  {
   "cell_type": "code",
   "execution_count": 9,
   "metadata": {},
   "outputs": [],
   "source": [
    "def insert_placeholder_for_var_values(data):\n",
    "    \"\"\"To make the Data generic, we replace all variable values with a placeholder\n",
    "    input: data as string\n",
    "    output: data as string\n",
    "    \"\"\"\n",
    "    json_data = json.loads(data)\n",
    "    ### replace lines\n",
    "    ## replace all free text with \"VAR_\" \n",
    "    # typeName\n",
    "    replace_key(json_data, \"typeName\", \"VAR_typeName\")\n",
    "    # name\n",
    "    replace_key(json_data, \"name\", \"VAR_name\")\n",
    "    # domainType\n",
    "    # replace_key(json_data, \"domainType\", \"VAR_domainType_METAMODEL\") # try out\n",
    "    # containerTypeName \n",
    "    replace_key(json_data, \"containerTypeName\", \"VAR_containerTypeName\") \n",
    "    # declaredByTypeName\n",
    "    replace_key(json_data, \"declaredByTypeName\", \"VAR_declaredByTypeName\")\n",
    "    # publishedEventTypeNames\n",
    "    replace_key(json_data, \"publishedEventTypeNames\", [\"VAR_publishedEventTypeNames\"])\n",
    "    # listenedEventTypeName\n",
    "    replace_key_if_not_null(json_data, \"listenedEventTypeName\", \"VAR_listenedEventTypeName\")\n",
    "    # allInterfaceTypeNames\n",
    "    replace_key(json_data, \"allInterfaceTypeNames\", [\"VAR_allInterfaceTypeNames\"])\n",
    "    # referencedRepositoryTypeNames\n",
    "    replace_key(json_data, \"referencedRepositoryTypeNames\", [\"VAR_referencedRepositoryTypeNames\"])\n",
    "    # referencedDomainServiceTypeNames\n",
    "    replace_key(json_data, \"referencedDomainServiceTypeNames\", [\"VAR_referencedDomainServiceTypeNames\"])\n",
    "    # managedAggregateTypeName\n",
    "    replace_key(json_data, \"managedAggregateTypeName\", \"VAR_managedAggregateTypeName\")\n",
    "    # repositoryInterfaceTypeNames\n",
    "    replace_key(json_data, \"repositoryInterfaceTypeNames\", [\"VAR_repositoryInterfaceTypeNames\"])\n",
    "    # domainServiceInterfaceTypeNames\n",
    "    replace_key(json_data, \"domainServiceInterfaceTypeNames\", [\"VAR_domainServiceInterfaceTypeNames\"])\n",
    "    # inheritanceHierarchyTypeNames\n",
    "    # replace_key(json_data, \"inheritanceHierarchyTypeNames\", [\"VAR_inheritanceHierarchyTypeNames\"])\n",
    "    # applicationServiceInterfaceTypeNames\n",
    "    replace_key(json_data, \"applicationServiceInterfaceTypeNames\", \"VAR_applicationServiceInterfaceTypeNames\")\n",
    "\n",
    "    \n",
    "    return json.dumps(json_data)\n",
    "    "
   ]
  },
  {
   "cell_type": "code",
   "execution_count": 10,
   "metadata": {},
   "outputs": [
    {
     "name": "stdout",
     "output_type": "stream",
     "text": [
      "{\"@class\": \"nitrox.dlc.mirror.model.DomainServiceModel\", \"typeName\": \"VAR_typeName\", \"abstract\": true, \"allFields\": [], \"methods\": [{\"@class\": \"nitrox.dlc.mirror.model.MethodModel\", \"name\": \"VAR_name\", \"declaredByTypeName\": \"VAR_declaredByTypeName\", \"accessLevel\": \"PUBLIC\", \"parameters\": [{\"@class\": \"nitrox.dlc.mirror.model.ParamModel\", \"name\": \"VAR_name\", \"type\": {\"@class\": \"nitrox.dlc.mirror.model.AssertedContainableTypeModel\", \"typeName\": \"VAR_typeName\", \"domainType\": \"AGGREGATE_ROOT\", \"assertions\": [], \"hasOptionalContainer\": false, \"hasCollectionContainer\": false, \"hasListContainer\": false, \"hasSetContainer\": false, \"hasStreamContainer\": false, \"containerTypeName\": \"VAR_containerTypeName\", \"containerAssertions\": []}}], \"returnType\": {\"@class\": \"nitrox.dlc.mirror.model.AssertedContainableTypeModel\", \"typeName\": \"VAR_typeName\", \"domainType\": \"AGGREGATE_ROOT\", \"assertions\": [], \"hasOptionalContainer\": false, \"hasCollectionContainer\": false, \"hasListContainer\": false, \"hasSetContainer\": false, \"hasStreamContainer\": false, \"containerTypeName\": \"VAR_containerTypeName\", \"containerAssertions\": []}, \"publishedEventTypeNames\": [\"VAR_publishedEventTypeNames\"], \"listenedEventTypeName\": null, \"getter\": false, \"setter\": false}, {\"@class\": \"nitrox.dlc.mirror.model.MethodModel\", \"name\": \"VAR_name\", \"declaredByTypeName\": \"VAR_declaredByTypeName\", \"accessLevel\": \"PUBLIC\", \"parameters\": [{\"@class\": \"nitrox.dlc.mirror.model.ParamModel\", \"name\": \"VAR_name\", \"type\": {\"@class\": \"nitrox.dlc.mirror.model.AssertedContainableTypeModel\", \"typeName\": \"VAR_typeName\", \"domainType\": \"IDENTITY\", \"assertions\": [], \"hasOptionalContainer\": false, \"hasCollectionContainer\": false, \"hasListContainer\": false, \"hasSetContainer\": false, \"hasStreamContainer\": false, \"containerTypeName\": \"VAR_containerTypeName\", \"containerAssertions\": []}}, {\"@class\": \"nitrox.dlc.mirror.model.ParamModel\", \"name\": \"VAR_name\", \"type\": {\"@class\": \"nitrox.dlc.mirror.model.AssertedContainableTypeModel\", \"typeName\": \"VAR_typeName\", \"domainType\": \"IDENTITY\", \"assertions\": [], \"hasOptionalContainer\": false, \"hasCollectionContainer\": false, \"hasListContainer\": false, \"hasSetContainer\": false, \"hasStreamContainer\": false, \"containerTypeName\": \"VAR_containerTypeName\", \"containerAssertions\": []}}, {\"@class\": \"nitrox.dlc.mirror.model.ParamModel\", \"name\": \"VAR_name\", \"type\": {\"@class\": \"nitrox.dlc.mirror.model.AssertedContainableTypeModel\", \"typeName\": \"VAR_typeName\", \"domainType\": \"NON_DOMAIN\", \"assertions\": [], \"hasOptionalContainer\": false, \"hasCollectionContainer\": false, \"hasListContainer\": false, \"hasSetContainer\": false, \"hasStreamContainer\": false, \"containerTypeName\": \"VAR_containerTypeName\", \"containerAssertions\": []}}, {\"@class\": \"nitrox.dlc.mirror.model.ParamModel\", \"name\": \"VAR_name\", \"type\": {\"@class\": \"nitrox.dlc.mirror.model.AssertedContainableTypeModel\", \"typeName\": \"VAR_typeName\", \"domainType\": \"NON_DOMAIN\", \"assertions\": [], \"hasOptionalContainer\": false, \"hasCollectionContainer\": false, \"hasListContainer\": false, \"hasSetContainer\": false, \"hasStreamContainer\": false, \"containerTypeName\": \"VAR_containerTypeName\", \"containerAssertions\": []}}, {\"@class\": \"nitrox.dlc.mirror.model.ParamModel\", \"name\": \"VAR_name\", \"type\": {\"@class\": \"nitrox.dlc.mirror.model.AssertedContainableTypeModel\", \"typeName\": \"VAR_typeName\", \"domainType\": \"NON_DOMAIN\", \"assertions\": [], \"hasOptionalContainer\": false, \"hasCollectionContainer\": false, \"hasListContainer\": false, \"hasSetContainer\": false, \"hasStreamContainer\": false, \"containerTypeName\": \"VAR_containerTypeName\", \"containerAssertions\": []}}], \"returnType\": {\"@class\": \"nitrox.dlc.mirror.model.AssertedContainableTypeModel\", \"typeName\": \"VAR_typeName\", \"domainType\": \"AGGREGATE_ROOT\", \"assertions\": [], \"hasOptionalContainer\": false, \"hasCollectionContainer\": false, \"hasListContainer\": false, \"hasSetContainer\": false, \"hasStreamContainer\": false, \"containerTypeName\": \"VAR_containerTypeName\", \"containerAssertions\": []}, \"publishedEventTypeNames\": [\"VAR_publishedEventTypeNames\"], \"listenedEventTypeName\": null, \"getter\": false, \"setter\": false}, {\"@class\": \"nitrox.dlc.mirror.model.MethodModel\", \"name\": \"VAR_name\", \"declaredByTypeName\": \"VAR_declaredByTypeName\", \"accessLevel\": \"PUBLIC\", \"parameters\": [], \"returnType\": {\"@class\": \"nitrox.dlc.mirror.model.AssertedContainableTypeModel\", \"typeName\": \"VAR_typeName\", \"domainType\": \"IDENTITY\", \"assertions\": [], \"hasOptionalContainer\": false, \"hasCollectionContainer\": false, \"hasListContainer\": false, \"hasSetContainer\": false, \"hasStreamContainer\": false, \"containerTypeName\": \"VAR_containerTypeName\", \"containerAssertions\": []}, \"publishedEventTypeNames\": [\"VAR_publishedEventTypeNames\"], \"listenedEventTypeName\": null, \"getter\": false, \"setter\": false}, {\"@class\": \"nitrox.dlc.mirror.model.MethodModel\", \"name\": \"VAR_name\", \"declaredByTypeName\": \"VAR_declaredByTypeName\", \"accessLevel\": \"PUBLIC\", \"parameters\": [{\"@class\": \"nitrox.dlc.mirror.model.ParamModel\", \"name\": \"VAR_name\", \"type\": {\"@class\": \"nitrox.dlc.mirror.model.AssertedContainableTypeModel\", \"typeName\": \"VAR_typeName\", \"domainType\": \"IDENTITY\", \"assertions\": [], \"hasOptionalContainer\": false, \"hasCollectionContainer\": false, \"hasListContainer\": false, \"hasSetContainer\": false, \"hasStreamContainer\": false, \"containerTypeName\": \"VAR_containerTypeName\", \"containerAssertions\": []}}, {\"@class\": \"nitrox.dlc.mirror.model.ParamModel\", \"name\": \"VAR_name\", \"type\": {\"@class\": \"nitrox.dlc.mirror.model.AssertedContainableTypeModel\", \"typeName\": \"VAR_typeName\", \"domainType\": \"IDENTITY\", \"assertions\": [], \"hasOptionalContainer\": false, \"hasCollectionContainer\": false, \"hasListContainer\": false, \"hasSetContainer\": false, \"hasStreamContainer\": false, \"containerTypeName\": \"VAR_containerTypeName\", \"containerAssertions\": []}}], \"returnType\": {\"@class\": \"nitrox.dlc.mirror.model.AssertedContainableTypeModel\", \"typeName\": \"VAR_typeName\", \"domainType\": \"AGGREGATE_ROOT\", \"assertions\": [], \"hasOptionalContainer\": false, \"hasCollectionContainer\": false, \"hasListContainer\": false, \"hasSetContainer\": false, \"hasStreamContainer\": false, \"containerTypeName\": \"VAR_containerTypeName\", \"containerAssertions\": []}, \"publishedEventTypeNames\": [\"VAR_publishedEventTypeNames\"], \"listenedEventTypeName\": null, \"getter\": false, \"setter\": false}, {\"@class\": \"nitrox.dlc.mirror.model.MethodModel\", \"name\": \"VAR_name\", \"declaredByTypeName\": \"VAR_declaredByTypeName\", \"accessLevel\": \"PUBLIC\", \"parameters\": [{\"@class\": \"nitrox.dlc.mirror.model.ParamModel\", \"name\": \"VAR_name\", \"type\": {\"@class\": \"nitrox.dlc.mirror.model.AssertedContainableTypeModel\", \"typeName\": \"VAR_typeName\", \"domainType\": \"IDENTITY\", \"assertions\": [], \"hasOptionalContainer\": false, \"hasCollectionContainer\": false, \"hasListContainer\": false, \"hasSetContainer\": false, \"hasStreamContainer\": false, \"containerTypeName\": \"VAR_containerTypeName\", \"containerAssertions\": []}}, {\"@class\": \"nitrox.dlc.mirror.model.ParamModel\", \"name\": \"VAR_name\", \"type\": {\"@class\": \"nitrox.dlc.mirror.model.AssertedContainableTypeModel\", \"typeName\": \"VAR_typeName\", \"domainType\": \"IDENTITY\", \"assertions\": [], \"hasOptionalContainer\": false, \"hasCollectionContainer\": false, \"hasListContainer\": false, \"hasSetContainer\": false, \"hasStreamContainer\": false, \"containerTypeName\": \"VAR_containerTypeName\", \"containerAssertions\": []}}], \"returnType\": {\"@class\": \"nitrox.dlc.mirror.model.AssertedContainableTypeModel\", \"typeName\": \"VAR_typeName\", \"domainType\": \"AGGREGATE_ROOT\", \"assertions\": [], \"hasOptionalContainer\": false, \"hasCollectionContainer\": false, \"hasListContainer\": false, \"hasSetContainer\": false, \"hasStreamContainer\": false, \"containerTypeName\": \"VAR_containerTypeName\", \"containerAssertions\": []}, \"publishedEventTypeNames\": [\"VAR_publishedEventTypeNames\"], \"listenedEventTypeName\": null, \"getter\": false, \"setter\": false}, {\"@class\": \"nitrox.dlc.mirror.model.MethodModel\", \"name\": \"VAR_name\", \"declaredByTypeName\": \"VAR_declaredByTypeName\", \"accessLevel\": \"PUBLIC\", \"parameters\": [{\"@class\": \"nitrox.dlc.mirror.model.ParamModel\", \"name\": \"VAR_name\", \"type\": {\"@class\": \"nitrox.dlc.mirror.model.AssertedContainableTypeModel\", \"typeName\": \"VAR_typeName\", \"domainType\": \"IDENTITY\", \"assertions\": [], \"hasOptionalContainer\": false, \"hasCollectionContainer\": false, \"hasListContainer\": false, \"hasSetContainer\": false, \"hasStreamContainer\": false, \"containerTypeName\": \"VAR_containerTypeName\", \"containerAssertions\": []}}, {\"@class\": \"nitrox.dlc.mirror.model.ParamModel\", \"name\": \"VAR_name\", \"type\": {\"@class\": \"nitrox.dlc.mirror.model.AssertedContainableTypeModel\", \"typeName\": \"VAR_typeName\", \"domainType\": \"IDENTITY\", \"assertions\": [], \"hasOptionalContainer\": false, \"hasCollectionContainer\": false, \"hasListContainer\": false, \"hasSetContainer\": false, \"hasStreamContainer\": false, \"containerTypeName\": \"VAR_containerTypeName\", \"containerAssertions\": []}}], \"returnType\": {\"@class\": \"nitrox.dlc.mirror.model.AssertedContainableTypeModel\", \"typeName\": \"VAR_typeName\", \"domainType\": \"AGGREGATE_ROOT\", \"assertions\": [], \"hasOptionalContainer\": true, \"hasCollectionContainer\": false, \"hasListContainer\": false, \"hasSetContainer\": false, \"hasStreamContainer\": false, \"containerTypeName\": \"VAR_containerTypeName\", \"containerAssertions\": []}, \"publishedEventTypeNames\": [\"VAR_publishedEventTypeNames\"], \"listenedEventTypeName\": null, \"getter\": false, \"setter\": false}, {\"@class\": \"nitrox.dlc.mirror.model.MethodModel\", \"name\": \"VAR_name\", \"declaredByTypeName\": \"VAR_declaredByTypeName\", \"accessLevel\": \"PUBLIC\", \"parameters\": [{\"@class\": \"nitrox.dlc.mirror.model.ParamModel\", \"name\": \"VAR_name\", \"type\": {\"@class\": \"nitrox.dlc.mirror.model.AssertedContainableTypeModel\", \"typeName\": \"VAR_typeName\", \"domainType\": \"IDENTITY\", \"assertions\": [], \"hasOptionalContainer\": false, \"hasCollectionContainer\": false, \"hasListContainer\": false, \"hasSetContainer\": false, \"hasStreamContainer\": false, \"containerTypeName\": \"VAR_containerTypeName\", \"containerAssertions\": []}}], \"returnType\": {\"@class\": \"nitrox.dlc.mirror.model.AssertedContainableTypeModel\", \"typeName\": \"VAR_typeName\", \"domainType\": \"AGGREGATE_ROOT\", \"assertions\": [], \"hasOptionalContainer\": true, \"hasCollectionContainer\": false, \"hasListContainer\": false, \"hasSetContainer\": false, \"hasStreamContainer\": false, \"containerTypeName\": \"VAR_containerTypeName\", \"containerAssertions\": []}, \"publishedEventTypeNames\": [\"VAR_publishedEventTypeNames\"], \"listenedEventTypeName\": null, \"getter\": false, \"setter\": false}], \"referencedRepositoryTypeNames\": \"VAR_referencedRepositoryTypeNames\", \"domainServiceInterfaceTypeNames\": \"VAR_domainServiceInterfaceTypeNames\", \"inheritanceHierarchyTypeNames\": \"VAR_inheritanceHierarchyTypeNames\", \"allInterfaceTypeNames\": \"VAR_allInterfaceTypeNames\"}\n"
     ]
    }
   ],
   "source": [
    "# clean data using the above function\n",
    "data = [insert_placeholder_for_var_values(i) for i in data]\n",
    "\n",
    "print(data[0])"
   ]
  },
  {
   "cell_type": "code",
   "execution_count": 11,
   "metadata": {},
   "outputs": [
    {
     "data": {
      "text/html": [
       "<div>\n",
       "<style scoped>\n",
       "    .dataframe tbody tr th:only-of-type {\n",
       "        vertical-align: middle;\n",
       "    }\n",
       "\n",
       "    .dataframe tbody tr th {\n",
       "        vertical-align: top;\n",
       "    }\n",
       "\n",
       "    .dataframe thead th {\n",
       "        text-align: right;\n",
       "    }\n",
       "</style>\n",
       "<table border=\"1\" class=\"dataframe\">\n",
       "  <thead>\n",
       "    <tr style=\"text-align: right;\">\n",
       "      <th></th>\n",
       "      <th>data</th>\n",
       "    </tr>\n",
       "  </thead>\n",
       "  <tbody>\n",
       "    <tr>\n",
       "      <th>0</th>\n",
       "      <td>{\"@class\": \"nitrox.dlc.mirror.model.DomainServ...</td>\n",
       "    </tr>\n",
       "    <tr>\n",
       "      <th>1</th>\n",
       "      <td>{\"@class\": \"nitrox.dlc.mirror.model.EnumModel\"...</td>\n",
       "    </tr>\n",
       "    <tr>\n",
       "      <th>2</th>\n",
       "      <td>{\"@class\": \"nitrox.dlc.mirror.model.EnumModel\"...</td>\n",
       "    </tr>\n",
       "    <tr>\n",
       "      <th>3</th>\n",
       "      <td>{\"@class\": \"nitrox.dlc.mirror.model.Repository...</td>\n",
       "    </tr>\n",
       "    <tr>\n",
       "      <th>4</th>\n",
       "      <td>{\"@class\": \"nitrox.dlc.mirror.model.DomainServ...</td>\n",
       "    </tr>\n",
       "  </tbody>\n",
       "</table>\n",
       "</div>"
      ],
      "text/plain": [
       "                                                data\n",
       "0  {\"@class\": \"nitrox.dlc.mirror.model.DomainServ...\n",
       "1  {\"@class\": \"nitrox.dlc.mirror.model.EnumModel\"...\n",
       "2  {\"@class\": \"nitrox.dlc.mirror.model.EnumModel\"...\n",
       "3  {\"@class\": \"nitrox.dlc.mirror.model.Repository...\n",
       "4  {\"@class\": \"nitrox.dlc.mirror.model.DomainServ..."
      ]
     },
     "execution_count": 11,
     "metadata": {},
     "output_type": "execute_result"
    }
   ],
   "source": [
    "# create df from data\n",
    "df = pd.DataFrame(data, columns=[\"data\"])\n",
    "\n",
    "df.head()"
   ]
  },
  {
   "cell_type": "markdown",
   "metadata": {},
   "source": [
    "### 2. Data Chunking"
   ]
  },
  {
   "cell_type": "markdown",
   "metadata": {},
   "source": [
    "#### Add Start and End Tokens"
   ]
  },
  {
   "cell_type": "code",
   "execution_count": 12,
   "metadata": {},
   "outputs": [
    {
     "data": {
      "text/html": [
       "<div>\n",
       "<style scoped>\n",
       "    .dataframe tbody tr th:only-of-type {\n",
       "        vertical-align: middle;\n",
       "    }\n",
       "\n",
       "    .dataframe tbody tr th {\n",
       "        vertical-align: top;\n",
       "    }\n",
       "\n",
       "    .dataframe thead th {\n",
       "        text-align: right;\n",
       "    }\n",
       "</style>\n",
       "<table border=\"1\" class=\"dataframe\">\n",
       "  <thead>\n",
       "    <tr style=\"text-align: right;\">\n",
       "      <th></th>\n",
       "      <th>data</th>\n",
       "    </tr>\n",
       "  </thead>\n",
       "  <tbody>\n",
       "    <tr>\n",
       "      <th>0</th>\n",
       "      <td>&lt;START&gt;{\"@class\": \"nitrox.dlc.mirror.model.Dom...</td>\n",
       "    </tr>\n",
       "    <tr>\n",
       "      <th>1</th>\n",
       "      <td>&lt;START&gt;{\"@class\": \"nitrox.dlc.mirror.model.Enu...</td>\n",
       "    </tr>\n",
       "    <tr>\n",
       "      <th>2</th>\n",
       "      <td>&lt;START&gt;{\"@class\": \"nitrox.dlc.mirror.model.Enu...</td>\n",
       "    </tr>\n",
       "    <tr>\n",
       "      <th>3</th>\n",
       "      <td>&lt;START&gt;{\"@class\": \"nitrox.dlc.mirror.model.Rep...</td>\n",
       "    </tr>\n",
       "    <tr>\n",
       "      <th>4</th>\n",
       "      <td>&lt;START&gt;{\"@class\": \"nitrox.dlc.mirror.model.Dom...</td>\n",
       "    </tr>\n",
       "  </tbody>\n",
       "</table>\n",
       "</div>"
      ],
      "text/plain": [
       "                                                data\n",
       "0  <START>{\"@class\": \"nitrox.dlc.mirror.model.Dom...\n",
       "1  <START>{\"@class\": \"nitrox.dlc.mirror.model.Enu...\n",
       "2  <START>{\"@class\": \"nitrox.dlc.mirror.model.Enu...\n",
       "3  <START>{\"@class\": \"nitrox.dlc.mirror.model.Rep...\n",
       "4  <START>{\"@class\": \"nitrox.dlc.mirror.model.Dom..."
      ]
     },
     "execution_count": 12,
     "metadata": {},
     "output_type": "execute_result"
    }
   ],
   "source": [
    "# Add special character as Start of the document\n",
    "df[\"data\"] = \"<START>\" + df[\"data\"] + \"<END>\"\n",
    "\n",
    "df.head()"
   ]
  },
  {
   "cell_type": "code",
   "execution_count": 13,
   "metadata": {},
   "outputs": [],
   "source": [
    "# format df to dataset object\n",
    "dataset = datasets.Dataset.from_pandas(df)"
   ]
  },
  {
   "cell_type": "code",
   "execution_count": 14,
   "metadata": {},
   "outputs": [
    {
     "data": {
      "text/plain": [
       "Dataset({\n",
       "    features: ['data'],\n",
       "    num_rows: 1022\n",
       "})"
      ]
     },
     "execution_count": 14,
     "metadata": {},
     "output_type": "execute_result"
    }
   ],
   "source": [
    "dataset"
   ]
  },
  {
   "cell_type": "markdown",
   "metadata": {},
   "source": [
    "#### Chunking"
   ]
  },
  {
   "cell_type": "code",
   "execution_count": 15,
   "metadata": {},
   "outputs": [
    {
     "data": {
      "text/plain": [
       "1"
      ]
     },
     "execution_count": 15,
     "metadata": {},
     "output_type": "execute_result"
    }
   ],
   "source": [
    "# initialize tokenizer and add pad token\n",
    "tokenizer = transformers.AutoTokenizer.from_pretrained(model_name)\n",
    "tokenizer.add_special_tokens({'pad_token': '[PAD]'})"
   ]
  },
  {
   "cell_type": "code",
   "execution_count": 16,
   "metadata": {},
   "outputs": [
    {
     "data": {
      "application/vnd.jupyter.widget-view+json": {
       "model_id": "1f1a9bfe89654e6b91a607141839cec9",
       "version_major": 2,
       "version_minor": 0
      },
      "text/plain": [
       "Map:   0%|          | 0/1022 [00:00<?, ? examples/s]"
      ]
     },
     "metadata": {},
     "output_type": "display_data"
    }
   ],
   "source": [
    "# tokenize dataset -> no truncation to get full length\n",
    "tokenized_dataset = dataset.map(lambda x: tokenizer(x['data'], truncation=False), batched=True)"
   ]
  },
  {
   "cell_type": "code",
   "execution_count": 17,
   "metadata": {},
   "outputs": [],
   "source": [
    "# drop data column from dataset to save memory\n",
    "# in data column is the original text\n",
    "tokenized_dataset = tokenized_dataset.remove_columns('data')"
   ]
  },
  {
   "cell_type": "code",
   "execution_count": 18,
   "metadata": {},
   "outputs": [
    {
     "data": {
      "text/plain": [
       "Dataset({\n",
       "    features: ['input_ids', 'attention_mask'],\n",
       "    num_rows: 1022\n",
       "})"
      ]
     },
     "execution_count": 18,
     "metadata": {},
     "output_type": "execute_result"
    }
   ],
   "source": [
    "tokenized_dataset"
   ]
  },
  {
   "cell_type": "code",
   "execution_count": 19,
   "metadata": {},
   "outputs": [
    {
     "name": "stdout",
     "output_type": "stream",
     "text": [
      "3317\n",
      "1022\n"
     ]
    }
   ],
   "source": [
    "print(len(tokenized_dataset[0][\"input_ids\"]))\n",
    "print(len(tokenized_dataset))"
   ]
  },
  {
   "cell_type": "markdown",
   "metadata": {},
   "source": [
    "##### Generate rows with max_lenght"
   ]
  },
  {
   "cell_type": "code",
   "execution_count": 20,
   "metadata": {},
   "outputs": [],
   "source": [
    "# get pad token\n",
    "pad_token = tokenizer.pad_token_id"
   ]
  },
  {
   "cell_type": "code",
   "execution_count": 21,
   "metadata": {},
   "outputs": [],
   "source": [
    "# split each row in multiple rows with length max_length\n",
    "split_rows = []\n",
    "for row in tokenized_dataset:\n",
    "\n",
    "    # Retrieve the input_ids and attention_mask from the row\n",
    "    input_ids = row['input_ids']\n",
    "    attention_mask = row['attention_mask']\n",
    "\n",
    "    # Calculate the number of splits needed based on the length of input_ids\n",
    "    num_splits = len(input_ids) // max_length + (1 if len(input_ids) % max_length != 0 else 0)\n",
    "\n",
    "    # Split input_ids and attention_mask into chunks of length max_length\n",
    "    for i in range(num_splits):\n",
    "        start_idx = i * max_length\n",
    "        end_idx = min((i + 1) * max_length, len(input_ids))\n",
    "        split_input_ids = input_ids[start_idx:end_idx]\n",
    "        split_attention_mask = attention_mask[start_idx:end_idx]\n",
    "\n",
    "        # Append the split rows to the split_rows list\n",
    "        split_rows.append({'input_ids': split_input_ids, 'attention_mask': split_attention_mask})\n"
   ]
  },
  {
   "cell_type": "code",
   "execution_count": 22,
   "metadata": {},
   "outputs": [],
   "source": [
    "# Convert the split_rows list into a DataFrame\n",
    "tokenized_dataset = pd.DataFrame(split_rows)"
   ]
  },
  {
   "cell_type": "code",
   "execution_count": 23,
   "metadata": {},
   "outputs": [],
   "source": [
    "# drop attention_mask column -> this will be recalculated later in the second tokenization step\n",
    "tokenized_dataset = tokenized_dataset.drop(columns=['attention_mask'])"
   ]
  },
  {
   "cell_type": "code",
   "execution_count": 24,
   "metadata": {},
   "outputs": [],
   "source": [
    "# we have to decode the chunks to get the original text back to encode it properly again\n",
    "# this ensures that the dataset is in the correct format for the model training\n",
    "\n",
    "# decode input_ids back to text\n",
    "tokenized_dataset['input_ids'] = tokenized_dataset['input_ids'].apply(lambda x: tokenizer.decode(x)) "
   ]
  },
  {
   "cell_type": "code",
   "execution_count": 25,
   "metadata": {},
   "outputs": [],
   "source": [
    "# shuffle the rows to ensure that the chunks are not ordered\n",
    "tokenized_dataset = tokenized_dataset.sample(frac=1, random_state=rand_seed).reset_index(drop=True)"
   ]
  },
  {
   "cell_type": "code",
   "execution_count": 26,
   "metadata": {},
   "outputs": [],
   "source": [
    "# in case we want to test the pipeline with a smaller number of rows we take only the first x rows\n",
    "if nb_testing:\n",
    "    tokenized_dataset = tokenized_dataset.head(testing_size)"
   ]
  },
  {
   "cell_type": "code",
   "execution_count": 27,
   "metadata": {},
   "outputs": [],
   "source": [
    "# create dataset from df\n",
    "tokenized_dataset = datasets.Dataset.from_pandas(tokenized_dataset)"
   ]
  },
  {
   "cell_type": "code",
   "execution_count": 28,
   "metadata": {},
   "outputs": [
    {
     "data": {
      "application/vnd.jupyter.widget-view+json": {
       "model_id": "448ee43ecf5c4a528748c93023f2968a",
       "version_major": 2,
       "version_minor": 0
      },
      "text/plain": [
       "Map:   0%|          | 0/100 [00:00<?, ? examples/s]"
      ]
     },
     "metadata": {},
     "output_type": "display_data"
    }
   ],
   "source": [
    "# encode dataset again\n",
    "tokenized_dataset = tokenized_dataset.map(lambda x: tokenizer(x['input_ids'], truncation=True, max_length=max_length), batched=True)"
   ]
  },
  {
   "cell_type": "code",
   "execution_count": 29,
   "metadata": {},
   "outputs": [
    {
     "data": {
      "text/plain": [
       "Dataset({\n",
       "    features: ['input_ids', 'attention_mask'],\n",
       "    num_rows: 100\n",
       "})"
      ]
     },
     "execution_count": 29,
     "metadata": {},
     "output_type": "execute_result"
    }
   ],
   "source": [
    "tokenized_dataset"
   ]
  },
  {
   "cell_type": "code",
   "execution_count": 30,
   "metadata": {},
   "outputs": [
    {
     "data": {
      "text/plain": [
       "512"
      ]
     },
     "execution_count": 30,
     "metadata": {},
     "output_type": "execute_result"
    }
   ],
   "source": [
    "# print length to test if the chunks are correct\n",
    "len(tokenized_dataset[\"input_ids\"][0])"
   ]
  },
  {
   "cell_type": "markdown",
   "metadata": {},
   "source": [
    "### 3. Chunk Shuffle and 4. Data Splits "
   ]
  },
  {
   "cell_type": "code",
   "execution_count": 31,
   "metadata": {},
   "outputs": [],
   "source": [
    "# make a test train split\n",
    "dataset_test_split = tokenized_dataset.train_test_split(test_size=0.2, shuffle=True, seed=rand_seed)\n",
    "\n",
    "\n",
    "# split the dataset_test_split into test and train\n",
    "train_dataset = dataset_test_split['train']\n",
    "test_dataset = dataset_test_split['test']"
   ]
  },
  {
   "cell_type": "code",
   "execution_count": 32,
   "metadata": {},
   "outputs": [],
   "source": [
    "# make a eval train split from the train dataset\n",
    "dataset_eval_split = train_dataset.train_test_split(test_size=0.2, shuffle=True, seed=rand_seed)\n",
    "\n",
    "# split the dataset_eval_split into eval and train\n",
    "eval_dataset = dataset_eval_split['test']\n",
    "train_dataset = dataset_eval_split['train']\n"
   ]
  },
  {
   "cell_type": "code",
   "execution_count": 33,
   "metadata": {},
   "outputs": [
    {
     "data": {
      "text/plain": [
       "Dataset({\n",
       "    features: ['input_ids', 'attention_mask'],\n",
       "    num_rows: 64\n",
       "})"
      ]
     },
     "execution_count": 33,
     "metadata": {},
     "output_type": "execute_result"
    }
   ],
   "source": [
    "train_dataset"
   ]
  },
  {
   "cell_type": "markdown",
   "metadata": {},
   "source": [
    "## Dataset Export"
   ]
  },
  {
   "cell_type": "code",
   "execution_count": 34,
   "metadata": {},
   "outputs": [
    {
     "data": {
      "application/vnd.jupyter.widget-view+json": {
       "model_id": "9f4312706e684abebf17b122475b0ce5",
       "version_major": 2,
       "version_minor": 0
      },
      "text/plain": [
       "Saving the dataset (0/1 shards):   0%|          | 0/100 [00:00<?, ? examples/s]"
      ]
     },
     "metadata": {},
     "output_type": "display_data"
    }
   ],
   "source": [
    "# save dataset to disk if save_dataset = True\n",
    "if save_dataset:\n",
    "    tokenized_dataset.save_to_disk(export_folder + \"full_dataset\")"
   ]
  },
  {
   "cell_type": "code",
   "execution_count": 35,
   "metadata": {},
   "outputs": [
    {
     "data": {
      "application/vnd.jupyter.widget-view+json": {
       "model_id": "79bdbda3673147b38c3a5799c22130f9",
       "version_major": 2,
       "version_minor": 0
      },
      "text/plain": [
       "Saving the dataset (0/1 shards):   0%|          | 0/64 [00:00<?, ? examples/s]"
      ]
     },
     "metadata": {},
     "output_type": "display_data"
    },
    {
     "data": {
      "application/vnd.jupyter.widget-view+json": {
       "model_id": "37b3edafa9ef4dc898e260f9ff5b9f74",
       "version_major": 2,
       "version_minor": 0
      },
      "text/plain": [
       "Saving the dataset (0/1 shards):   0%|          | 0/20 [00:00<?, ? examples/s]"
      ]
     },
     "metadata": {},
     "output_type": "display_data"
    },
    {
     "data": {
      "application/vnd.jupyter.widget-view+json": {
       "model_id": "864fc700b27443acb28811b63de26712",
       "version_major": 2,
       "version_minor": 0
      },
      "text/plain": [
       "Saving the dataset (0/1 shards):   0%|          | 0/16 [00:00<?, ? examples/s]"
      ]
     },
     "metadata": {},
     "output_type": "display_data"
    }
   ],
   "source": [
    "# save train and test dataset split to disk if save_test_train = True\n",
    "if save_test_train:\n",
    "    train_dataset.save_to_disk(export_folder + \"train_dataset\")\n",
    "    test_dataset.save_to_disk(export_folder + \"test_dataset\")\n",
    "    eval_dataset.save_to_disk(export_folder + \"eval_dataset\")"
   ]
  },
  {
   "cell_type": "code",
   "execution_count": 36,
   "metadata": {},
   "outputs": [],
   "source": [
    "if save_df:\n",
    "    df.to_csv(export_folder + \"raw_data_df.csv\", index=False)"
   ]
  }
 ],
 "metadata": {
  "kernelspec": {
   "display_name": "Python 3",
   "language": "python",
   "name": "python3"
  },
  "language_info": {
   "codemirror_mode": {
    "name": "ipython",
    "version": 3
   },
   "file_extension": ".py",
   "mimetype": "text/x-python",
   "name": "python",
   "nbconvert_exporter": "python",
   "pygments_lexer": "ipython3",
   "version": "3.11.9"
  }
 },
 "nbformat": 4,
 "nbformat_minor": 2
}
